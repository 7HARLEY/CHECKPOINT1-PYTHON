{
 "cells": [
  {
   "cell_type": "code",
   "execution_count": 16,
   "id": "52ad6c28-3909-46ac-af3f-4d7752a9b631",
   "metadata": {},
   "outputs": [
    {
     "name": "stdout",
     "output_type": "stream",
     "text": [
      "Bienvenue chez Python Pizza Livraisons\n"
     ]
    }
   ],
   "source": [
    "#Réponse 2 - Affichage message de bienvenue\n",
    "\n",
    "print (\"Bienvenue chez Python Pizza Livraisons\")"
   ]
  },
  {
   "cell_type": "code",
   "execution_count": 11,
   "id": "cc79a414-9e4d-4c7a-9c04-ded0c58a9ca6",
   "metadata": {},
   "outputs": [
    {
     "name": "stdin",
     "output_type": "stream",
     "text": [
      "Quelle taille de pizza vous désirez? Petite Pizza\n"
     ]
    },
    {
     "name": "stdout",
     "output_type": "stream",
     "text": [
      "15\n"
     ]
    }
   ],
   "source": [
    "#Réponse 3  - Ligne qui Demander au client la taille  de pizza qu'il veut\n",
    "\n",
    "size = input(\"Quelle taille de pizza vous désirez?\")\n",
    "if size == \"Petite Pizza\":\n",
    "    Prix_Pizza  = 15\n",
    "elif size == \"Moyenne Pizza\":\n",
    "    Prix_Pizza = 20 \n",
    "elif size == \"Grande Pizza\":\n",
    "    Prix_Pizza = 25   \n",
    "else :\n",
    "    Prix_Pizza = (\"Error\")\n",
    "print (Prix_Pizza)"
   ]
  },
  {
   "cell_type": "code",
   "execution_count": 12,
   "id": "54202758-d7d2-471f-bb60-afd7b71f3e7b",
   "metadata": {},
   "outputs": [
    {
     "name": "stdin",
     "output_type": "stream",
     "text": [
      "Souhaitez - vous du pepperoni sur votre pizza? oui\n"
     ]
    },
    {
     "name": "stdout",
     "output_type": "stream",
     "text": [
      "3\n"
     ]
    }
   ],
   "source": [
    "#Réponse 4 - Ligne qui demande à l'utilisateur s'il souhaite du pepperoni sur sa pizza\n",
    "\n",
    "add_pepperoni = input (\"Souhaitez - vous du pepperoni sur votre pizza?\")\n",
    "if add_pepperoni == \"oui\":\n",
    "    if size == \"Petite_Pizza\":\n",
    "        pepperoni_price = 2\n",
    "    else: \n",
    "        pepperoni_price = 3\n",
    "else:\n",
    "    pepperoni_price = 0\n",
    "print (pepperoni_price)"
   ]
  },
  {
   "cell_type": "code",
   "execution_count": 13,
   "id": "978f68e5-4216-4de4-8d30-08eac33a6cc7",
   "metadata": {},
   "outputs": [
    {
     "name": "stdin",
     "output_type": "stream",
     "text": [
      "souhaitez - vous du fromage supplémentaire? oui\n"
     ]
    },
    {
     "name": "stdout",
     "output_type": "stream",
     "text": [
      "1\n"
     ]
    }
   ],
   "source": [
    "#Réponse 5 -  ligne qui demande à l'utilisateur s'il souhaite du fromage supplémentaire\n",
    "\n",
    "extra_cheese = input (\"souhaitez - vous du fromage supplémentaire?\")\n",
    "if extra_cheese == \"oui\":\n",
    "    price_cheese = 1\n",
    "else:\n",
    "    price_cheese = \"\"\n",
    "print (price_cheese)"
   ]
  },
  {
   "cell_type": "code",
   "execution_count": 24,
   "id": "d926304a-4f1a-451a-a59d-9cb5061f9780",
   "metadata": {},
   "outputs": [
    {
     "name": "stdout",
     "output_type": "stream",
     "text": [
      "Votre facture finale est : 19 $.\n"
     ]
    }
   ],
   "source": [
    "facture_totale = Prix_Pizza+pepperoni_price+price_cheese\n",
    "print (f\"Votre facture finale est : {facture_totale} $.\")\n"
   ]
  },
  {
   "cell_type": "code",
   "execution_count": null,
   "id": "130873f0-7809-4baf-bedf-b13b1437a480",
   "metadata": {},
   "outputs": [],
   "source": []
  }
 ],
 "metadata": {
  "kernelspec": {
   "display_name": "Python 3 (ipykernel)",
   "language": "python",
   "name": "python3"
  },
  "language_info": {
   "codemirror_mode": {
    "name": "ipython",
    "version": 3
   },
   "file_extension": ".py",
   "mimetype": "text/x-python",
   "name": "python",
   "nbconvert_exporter": "python",
   "pygments_lexer": "ipython3",
   "version": "3.12.7"
  }
 },
 "nbformat": 4,
 "nbformat_minor": 5
}
